{
 "cells": [
  {
   "cell_type": "markdown",
   "id": "809bd7f2",
   "metadata": {},
   "source": [
    "# 手撕Transformer之CrossAttention"
   ]
  },
  {
   "cell_type": "code",
   "execution_count": 4,
   "id": "106dec4e",
   "metadata": {},
   "outputs": [],
   "source": [
    "import torch\n",
    "from torch import nn\n",
    "import torch.nn.functional as F\n",
    "import math"
   ]
  },
  {
   "cell_type": "code",
   "execution_count": 5,
   "id": "26879efb",
   "metadata": {},
   "outputs": [],
   "source": [
    "class Multiheadattention(nn.Module):\n",
    "    def __init__(self, input_dim, heads, d_model):\n",
    "        super(Multiheadattention, self).__init__()\n",
    "        self.d_model = d_model\n",
    "        self.head_dim = self.d_model // heads\n",
    "        self.heads_num = heads\n",
    "        self.input_dim = input_dim\n",
    "\n",
    "        self.to_q = nn.Linear(self.input_dim, self.d_model)   # batch_size, input_dim, d_model\n",
    "        self.to_k = nn.Linear(self.input_dim, self.d_model)   # batch_size, input_dim, d_model\n",
    "        self.to_v = nn.Linear(self.input_dim, self.d_model)   # batch_size, input_dim, d_model\n",
    "        self.to_out = nn.Linear(self.d_model, self.input_dim)   # batch_size, input_dim, d_model\n",
    "\n",
    "    def forward(self, q, k, v):\n",
    "        bs = q.shape[0]\n",
    "        q = self.to_q(q).view(bs, -1, self.heads_num, self.head_dim).transpose(1,2) # batch_size, seq_len, head_num, head_dim -> batch_size, head_num, seq_len, head_dim \n",
    "        k = self.to_k(k).view(bs, -1, self.heads_num, self.head_dim).transpose(1,2) # batch_size, seq_len, head_num, head_dim -> batch_size, head_num, seq_len, head_dim \n",
    "        v = self.to_v(v).view(bs, -1, self.heads_num, self.head_dim).transpose(1,2) # batch_size, seq_len, head_num, head_dim -> batch_size, head_num, seq_len, head_dim \n",
    "        scores = torch.matmul(q, k.transpose(-2,-1)) / math.sqrt(self.head_dim)\n",
    "        scores = F.softmax(scores, dim=-1)\n",
    "        out = torch.matmul(scores, v)    # batch_size, seq_len, head_num, head_dim\n",
    "        out = out.transpose(1,2).contiguous().view(bs, -1, self.d_model)\n",
    "        out = self.to_out(out)\n",
    "        return out"
   ]
  },
  {
   "cell_type": "code",
   "execution_count": 6,
   "id": "ce338338",
   "metadata": {},
   "outputs": [
    {
     "name": "stdout",
     "output_type": "stream",
     "text": [
      "torch.Size([4, 256, 32])\n"
     ]
    }
   ],
   "source": [
    "heads = 2\n",
    "batch_size = 4\n",
    "input_dim = 32\n",
    "\n",
    "multiheadattn = Multiheadattention(input_dim, heads, input_dim)\n",
    "\n",
    "q = torch.randn(batch_size,256,input_dim)\n",
    "k = torch.randn(batch_size,77,input_dim)\n",
    "v = torch.randn(batch_size,77,input_dim)\n",
    "\n",
    "out = multiheadattn(q,k,v)\n",
    "print(out.shape)"
   ]
  },
  {
   "cell_type": "code",
   "execution_count": null,
   "id": "0a629caf",
   "metadata": {},
   "outputs": [],
   "source": []
  }
 ],
 "metadata": {
  "kernelspec": {
   "display_name": "Python [conda env:pytorch]",
   "language": "python",
   "name": "conda-env-pytorch-py"
  },
  "language_info": {
   "codemirror_mode": {
    "name": "ipython",
    "version": 3
   },
   "file_extension": ".py",
   "mimetype": "text/x-python",
   "name": "python",
   "nbconvert_exporter": "python",
   "pygments_lexer": "ipython3",
   "version": "3.9.19"
  }
 },
 "nbformat": 4,
 "nbformat_minor": 5
}
