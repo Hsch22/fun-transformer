{
 "cells": [
  {
   "cell_type": "markdown",
   "id": "6b031c6a",
   "metadata": {},
   "source": [
    "假设输入的是两个不同的特征张量（模拟查询、键值对的情况），展示如何通过CrossAttention模块进行信息融合。"
   ]
  },
  {
   "cell_type": "code",
   "execution_count": 3,
   "id": "98571c5e",
   "metadata": {},
   "outputs": [
    {
     "name": "stdout",
     "output_type": "stream",
     "text": [
      "输出结果的形状: torch.Size([2, 10, 64])\n"
     ]
    }
   ],
   "source": [
    "import torch\n",
    "from torch import nn\n",
    "import torch.nn.functional as F\n",
    "import math\n",
    "\n",
    "\n",
    "# 定义CrossAttention类\n",
    "class CrossAttention(nn.Module):\n",
    "    def __init__(\n",
    "            self, dim, num_heads=8, qkv_bias=False, qk_scale=None, attn_drop=0.,\n",
    "            proj_drop=0., window_size=None, attn_head_dim=None):\n",
    "        super().__init__()\n",
    "        self.num_heads = num_heads\n",
    "        head_dim = dim // num_heads\n",
    "        if attn_head_dim is not None:\n",
    "            head_dim = attn_head_dim\n",
    "        all_head_dim = head_dim * self.num_heads\n",
    "        self.scale = qk_scale or head_dim ** -0.5\n",
    "\n",
    "        self.q = nn.Linear(dim, all_head_dim, bias=False)\n",
    "        self.k = nn.Linear(dim, all_head_dim, bias=False)\n",
    "        self.v = nn.Linear(dim, all_head_dim, bias=False)\n",
    "\n",
    "        if qkv_bias:\n",
    "            self.q_bias = nn.Parameter(torch.zeros(all_head_dim))\n",
    "            self.v_bias = nn.Parameter(torch.zeros(all_head_dim))\n",
    "        else:\n",
    "            self.q_bias = None\n",
    "            self.k_bias = None\n",
    "            self.v_bias = None\n",
    "\n",
    "        self.attn_drop = nn.Dropout(attn_drop)\n",
    "        self.proj = nn.Linear(all_head_dim, dim)\n",
    "        self.proj_drop = nn.Dropout(proj_drop)\n",
    "\n",
    "    def forward(self, x, bool_masked_pos=None, k=None, v=None):\n",
    "        B, N, C = x.shape\n",
    "        N_k = k.shape[1]\n",
    "        N_v = v.shape[1]\n",
    "\n",
    "        q_bias, k_bias, v_bias = None, None, None\n",
    "        if self.q_bias is not None:\n",
    "            q_bias = self.q_bias\n",
    "            k_bias = torch.zeros_like(self.v_bias, requires_grad=False)\n",
    "            v_bias = self.v_bias\n",
    "\n",
    "        q = F.linear(input=x, weight=self.q.weight, bias=q_bias)\n",
    "        q = q.reshape(B, N, 1, self.num_heads, -1).permute(2, 0, 3, 1, 4).squeeze(0)    # (B, N_head, N_q, dim)\n",
    "\n",
    "        k = F.linear(input=k, weight=self.k.weight, bias=k_bias)\n",
    "        k = k.reshape(B, N_k, 1, self.num_heads, -1).permute(2, 0, 3, 1, 4).squeeze(0)\n",
    "\n",
    "        v = F.linear(input=v, weight=self.v.weight, bias=v_bias)\n",
    "        v = v.reshape(B, N_v, 1, self.num_heads, -1).permute(2, 0, 3, 1, 4).squeeze(0)\n",
    "\n",
    "        q = q * self.scale\n",
    "        attn = (q @ k.transpose(-2, -1))      # (B, N_head, N_q, N_k)\n",
    "\n",
    "        attn = attn.softmax(dim=-1)\n",
    "        attn = self.attn_drop(attn)\n",
    "\n",
    "        x = (attn @ v).transpose(1, 2).reshape(B, N, -1)\n",
    "        x = self.proj(x)\n",
    "        x = self.proj_drop(x)\n",
    "\n",
    "        return x\n",
    "\n",
    "\n",
    "# 设置相关的维度参数和输入张量示例\n",
    "batch_size = 2  # 批次大小\n",
    "dim = 64  # 特征维度\n",
    "num_heads = 4  # 头的数量\n",
    "seq_len_query = 10  # 查询序列长度\n",
    "seq_len_key_value = 8  # 键值对序列长度\n",
    "\n",
    "# 随机生成输入张量，模拟查询、键、值\n",
    "query = torch.rand(batch_size, seq_len_query, dim)\n",
    "key = torch.rand(batch_size, seq_len_key_value, dim)\n",
    "value = torch.rand(batch_size, seq_len_key_value, dim)\n",
    "\n",
    "# 实例化CrossAttention模块\n",
    "cross_attention_module = CrossAttention(dim=dim, num_heads=num_heads)\n",
    "\n",
    "# 进行前向传播计算\n",
    "output = cross_attention_module(query, k=key, v=value)\n",
    "\n",
    "print(\"输出结果的形状:\", output.shape)"
   ]
  },
  {
   "cell_type": "markdown",
   "id": "f3e4603c",
   "metadata": {},
   "source": [
    "首先定义了CrossAttention类，包括线性变换、维度调整、注意力权重计算以及最终的信息融合和输出投影等操作。\n",
    "\n",
    "然后设置了一些示例参数，比如批次大小、特征维度、头的数量以及查询和键值对的序列长度等，并随机生成了对应的输入张量（模拟查询、键、值）。\n",
    "\n",
    "接着实例化了CrossAttention模块，并使用生成的输入张量进行前向传播计算，最后打印出输出结果的形状。"
   ]
  },
  {
   "cell_type": "code",
   "execution_count": null,
   "id": "2c2f66d0",
   "metadata": {},
   "outputs": [],
   "source": []
  }
 ],
 "metadata": {
  "kernelspec": {
   "display_name": "Python [conda env:pytorch]",
   "language": "python",
   "name": "conda-env-pytorch-py"
  },
  "language_info": {
   "codemirror_mode": {
    "name": "ipython",
    "version": 3
   },
   "file_extension": ".py",
   "mimetype": "text/x-python",
   "name": "python",
   "nbconvert_exporter": "python",
   "pygments_lexer": "ipython3",
   "version": "3.9.19"
  }
 },
 "nbformat": 4,
 "nbformat_minor": 5
}
